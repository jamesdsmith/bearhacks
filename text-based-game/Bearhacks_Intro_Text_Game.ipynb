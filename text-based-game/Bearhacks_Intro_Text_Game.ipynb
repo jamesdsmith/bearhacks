{
 "cells": [
  {
   "cell_type": "markdown",
   "metadata": {},
   "source": [
    "#  Welcome to BearHacks!!\n",
    "---\n",
    "This module is intended to provide a brief introduction to programming in Python and assumes no prior experience with programming in general. By the end of this module, you will have learned enough material to start creating your own projects (specifically, you should have the capability to make text-based games).\n",
    "\n",
    "If you have any questions at any point during this module, feel free to ask a mentor! In addition, feel free to google any questions as well or just try to run code yourself!\n",
    "\n",
    "The webpage you are currently reading is a Jupyter Notebook (or iPython Notebook) which is a tool we will use to introduce key concepts. It allows us to run code blocks as well as text blocks (like this one) to easily run and write about code without having to delve into the command line.\n",
    "\n",
    "To start, locate this set of buttons in the toolbar above:\n",
    "\n",
    "<img src=\"toolbar.png\" width=\"130px\" style=\"float: left\"/> <br><br><br>\n",
    "\n",
    "To run a cell, click on the cell so it's highlighted green, then click the leftmost button (▶| ) in that group, the \"Run Cell\" button. Alternatively, you can go to a cell you want to run and hold down the `shift` key and press `return` or `enter`. Try this on the code cell below:"
   ]
  },
  {
   "cell_type": "code",
   "execution_count": null,
   "metadata": {
    "collapsed": true
   },
   "outputs": [],
   "source": [
    "print(\"Hello World!\")"
   ]
  },
  {
   "cell_type": "markdown",
   "metadata": {},
   "source": [
    "As you probably have observed, `print()` displays the message between the parentheses below the code cell.\n",
    "\n",
    "If you ever want to try to write your own code, you can press the **+** (second to the left in the toolbar) to create a new cell.\n",
    "\n",
    "The fundamental building block of Python code is an expression. Cells can contain multiple lines with multiple expressions. When you run a cell, the lines of code are executed in the order in which they appear. Every `print` expression prints a line. Run the next cell and notice the order of the output."
   ]
  },
  {
   "cell_type": "code",
   "execution_count": null,
   "metadata": {
    "collapsed": true
   },
   "outputs": [],
   "source": [
    "print(\"First this line is printed,\")\n",
    "print(\"and then this one.\")"
   ]
  },
  {
   "cell_type": "markdown",
   "metadata": {},
   "source": [
    "You are probably eager to jump right on in to new material other than print statements, but before that we will talk more about Python itself and some common errors.\n",
    "\n",
    "Python like most programming languages has a strict set of rules that it follows. Remember that a computer runs each of the code blocks so even while we might be able to easily interprate what a code cell *should* do, a computer will follow what is written in the code cells exactly.\n",
    "\n",
    "For a few examples of errors, run the code cell below and observe what happens. "
   ]
  },
  {
   "cell_type": "code",
   "execution_count": null,
   "metadata": {
    "collapsed": true
   },
   "outputs": [],
   "source": [
    "print(\"This line is missing something.\""
   ]
  },
  {
   "cell_type": "markdown",
   "metadata": {},
   "source": [
    "There is probably a scary (but colorful) error message that appears below the code cell. Don't be afraid of these errors! Often these error messages can help us quickly locate where in our code there is an error. In this case, notice that the error message displays our print statement and then has a carat (^) pointing to the code. This indicates that something went wrong somewhere where that carat is.\n",
    "\n",
    "Try to understand the bottom of the error message as best you can (ask a mentor if you need help) and then fix the code cell to run as intended. If you do not fully understand the error message, do not worry about it.\n",
    "\n",
    "---\n",
    "Now we will introduce another important part of programming: comments\n",
    "Comments are just notes written by the programmer that are not run by the computer. Comments are indcredibly useful to document what a piece of code is doing. In Python, comments are denoted by a hashtag (#) and include everything to the right of the hashtag to the end of the line. See below for an example."
   ]
  },
  {
   "cell_type": "code",
   "execution_count": null,
   "metadata": {
    "collapsed": true
   },
   "outputs": [],
   "source": [
    "# This is a comment. Anything can be written here without affecting the code\n",
    "\n",
    "5 + 5 # Woah Python can do arithmetic!!"
   ]
  },
  {
   "cell_type": "markdown",
   "metadata": {},
   "source": [
    "---\n",
    "### Variables\n",
    "Alright now on to some new stuff: **Variables!!**\n",
    "\n",
    "Much like in algebra, variables in programming allow us to put a placeholder in our code to \"stand-in\" for a value. Unlike in algebra, however, variables in programming can stand in for much more than just numbers, like strings of text (called <b>strings,</b> oddly enough) and much more!\n",
    "\n",
    "Variables in Python are defined with an equals sign, with the name of the variable on the left and the initial value on the right. Variable names in Python can have letters (upper- and lower-case letters are both okay and count as different letters), underscores, and numbers.  The first character can't be a number (otherwise a name might look like a number), and some words cannot be used because they already define something else.\n",
    "\n",
    "Other than those rules, what you name something doesn't matter *to Python*.  For example, this cell does the same thing as the above cell, except everything has a different name:\n",
    "\n",
    "Fill in the variables in the code cell below by replacing the written values to the right of the equals sign with your own answers!"
   ]
  },
  {
   "cell_type": "code",
   "execution_count": null,
   "metadata": {
    "collapsed": true
   },
   "outputs": [],
   "source": [
    "# Fill in your first and last name below by replacing FirstName and LastName\n",
    "# These are string types, and when you type string values they're surrounded with quotes\n",
    "first_name = \"FirstName\"\n",
    "last_name = \"LastName\"\n",
    "\n",
    "# Strings can be combined using the + operator\n",
    "# This is called string concatenation\n",
    "full_name = first_name + \" \" + last_name\n",
    "\n",
    "# While we're at it, what's your favorite color?\n",
    "favorite_color = \"Color\""
   ]
  },
  {
   "cell_type": "markdown",
   "metadata": {},
   "source": [
    "If you ran the code cell above, you may have noticed that nothing was printed!! Remember before that a computer runs exactly what you tell it to run. In this case, there is no print statement so nothing was printed*!!!\n",
    "\n",
    "*exception: in Jupyter Notebooks, there are some cases where something is printed even without a print statement. But don't worry this will not affect the logic of your code\n",
    "\n",
    "Below we provide code to print your favorite color. Try to add a line to print your full name!"
   ]
  },
  {
   "cell_type": "code",
   "execution_count": null,
   "metadata": {
    "collapsed": true
   },
   "outputs": [],
   "source": [
    "print(\"My favorite color is \" + favorite_color) \n",
    "# Notice what is inside the quotation marks and what is not!\n",
    "\n",
    "# add another print statement here telling us your full name!\n"
   ]
  },
  {
   "cell_type": "markdown",
   "metadata": {},
   "source": [
    "### Arithmetic\n",
    "As you might have guessed, Python can also do some basic arithmetic. Below are some examples of arithmetic as well as use of variables. These tend to be pretty self-explanatory, but pay attention to how we can combine the use of numbers and variables\n"
   ]
  },
  {
   "cell_type": "code",
   "execution_count": null,
   "metadata": {
    "collapsed": true
   },
   "outputs": [],
   "source": [
    "ten = 5 + 5\n",
    "\n",
    "8 + 12 # This line of code does not do anything. Think about why\n",
    "\n",
    "eighteen = ten + ten\n",
    "nine = eighteen / 2 # Division\n",
    "fourteen = 7 * 2 # Multiplication\n",
    "sixteen = 4 ** 2 # Exponentiation\n",
    "# Note these operations take place based on the standard order of operations (PEMDAS)\n",
    "\n",
    "bears = sixteen * 5 + 4 * 5**4 - (100*5 + 63) # we can name our variable name anything!!!\n",
    "\n",
    "woah = 5\n",
    "woah = woah**woah # everything to the right of the equals sign will be evaluated first. \n",
    "# Thus we can reassign a variable using the past value of that same variable itself!\n",
    "\n",
    "print(woah) #feel free to add more print lines or change the variable inside to print whatever desired value"
   ]
  },
  {
   "cell_type": "markdown",
   "metadata": {},
   "source": [
    "### Lists\n",
    "Python also has something called a <b>list</b>, (an <b>array</b> in some other languages) which allows us to store multiple values in one variable. You can then access the values by <i>indexing</i> into the list, as we'll see below. Note that lists are kind of weird, in that the first index is actually position <i>zero.</i>\n",
    "\n",
    "Rather than try to explain every detail to you, we have provided some code to demonstrate how to create and use a list"
   ]
  },
  {
   "cell_type": "code",
   "execution_count": null,
   "metadata": {
    "collapsed": true
   },
   "outputs": [],
   "source": [
    "# we define a new list that we assign to the variable W\n",
    "W = [1,2,3,5] # lists are defined using square brackets\n",
    "\n",
    "print(W)\n",
    "\n",
    "print() #an empty print statement can be used to skip a line\n",
    "\n",
    "print(\"The first element of list W (W[0]) is \", W[0]) #notice that the first element is actually the zeroth element\n",
    "print(\"The fourth element of list W (W[3]) is \", W[3])\n",
    "\n",
    "# We can also change the list by assigning an index of W\n",
    "W[3] = 4 # This will change the 3rd index (which is the 4th item in the list) to 4\n",
    "print(\"New fourth element of list W (W[3]): \", W[3])\n",
    "\n",
    "print()\n",
    "\n",
    "# We can append (add to the end of the list) items like so\n",
    "W = W + [5] # note that we must add a list to another list so we put the 5 in brackets\n",
    "print(W) \n",
    "W = W + [6,7,8]\n",
    "print(W)\n",
    "\n",
    "# We can also easily get the length of a list using len(W)\n",
    "print(\"length of W: \", len(W))\n",
    "\n",
    "print()\n",
    "\n",
    "W = 6 # uh-oh what did this do\n",
    "print(W) \n",
    "# notice that we changed the variable W to be something else. Notably, W is no longer a list!"
   ]
  },
  {
   "cell_type": "markdown",
   "metadata": {},
   "source": [
    "One interesting thing about lists and strings is that a string can be thought of as a list of characters!\n",
    "\n",
    "That is, we can reference a string as if it were a list of characters (but we cannot change it)."
   ]
  },
  {
   "cell_type": "code",
   "execution_count": null,
   "metadata": {
    "collapsed": true
   },
   "outputs": [],
   "source": [
    "test_string = \"I love BearHacks!\"\n",
    "print(\"Full string: \", test_string)\n",
    "print(\"test_string[0]: \", test_string[0])\n",
    "print(\"test_string[1]: \", test_string[1]) # notice that spaces count as a character\n",
    "print(\"test_string[-1]: \", test_string[-1]) #what happens if we use a negative index?\n",
    "print(\"Length of test_string: \", len(test_string))"
   ]
  },
  {
   "cell_type": "markdown",
   "metadata": {},
   "source": [
    "Wow we have learned quite a lot already in a short amount of time. Make sure you fully understand everything above (and if you have any questions feel free to ask a mentor!) before moving on.\n",
    "\n",
    "---\n",
    "## Logic/Control\n",
    "Now that we seen some variables and types, we can now start to learn how to apply some sort of logic and control to choose what we want to do.\n",
    "\n",
    "To do this, we will also introduce another type in Python (we have already learned about integers, strings, and lists!): **booleans**. Booleans are actually quite simple. A boolean variable can only be two things: `True` or `False`. To assign a variable to a boolean, we can either assign it to True or False directly or we can give it a comparison to evaluate. \n",
    "\n",
    "To compare items, we use two equality signs `==` which will return True or False based on if both side of the `==` are equal. We can also compare greater than, less than, greater than or equal to, and less than or equal to by using `>`, `<`, `>=`, and `<=` respectively\n"
   ]
  },
  {
   "cell_type": "code",
   "execution_count": null,
   "metadata": {
    "collapsed": true
   },
   "outputs": [],
   "source": [
    "my_bool1 = True\n",
    "my_bool2 = (5==5) \n",
    "my_bool3 = (5==2) \n",
    "my_bool4 = (5>=2) \n",
    "print(\"my_bool1: \",my_bool1)\n",
    "print(\"my_bool2: \",my_bool2)\n",
    "print(\"my_bool3: \",my_bool3)\n",
    "print(\"my_bool4: \",my_bool4)"
   ]
  },
  {
   "cell_type": "markdown",
   "metadata": {},
   "source": [
    "We now introduce the concept of AND, OR, and NOT in relationship with booleans. Booleans do not have the same arithmetic (adding, subtracting, etc.) as numbers (sort of, you can try to test to see what happens if you do try to add booleans!). Instead, they have AND and OR.\n",
    "\n",
    "Say we have 2 boolean variables A, B. Then we can create another boolean variable `C = A and B`. This means that C will be true if *both* A and B are true. If A is False, then C is also False. Likewise if B is False.\n",
    "\n",
    "Now let `D = A or B`. This means that D is a boolean that is true if *at least one* of A, B is true.\n",
    "\n",
    "Finally let `E = not A`. This simply means that E is the opposite of A. If A is True, then E is False and vice versa."
   ]
  },
  {
   "cell_type": "code",
   "execution_count": null,
   "metadata": {
    "collapsed": true
   },
   "outputs": [],
   "source": [
    "# Feel free to change A and B below\n",
    "A = True \n",
    "B = False\n",
    "C = A and B\n",
    "D = A or B\n",
    "E = not A\n",
    "print(\"A and B: \", C)\n",
    "print(\"A or B: \", D)\n",
    "print(\"not A: \", E)"
   ]
  },
  {
   "cell_type": "markdown",
   "metadata": {},
   "source": [
    "We have created a sort of simple logic now that can help us determine whether something is True of False. Now we will use this logic in an if-statement to begin controlling the flow of a program.\n",
    "\n",
    "An if-statement will execute the code within it based on a boolean expression. Everything that is indented immediately following the if-statement is considered part of the if-statement\n",
    "\n",
    "If that does not quite make sense, look through the code below to understand the syntax (fancy word meaning way to write it)."
   ]
  },
  {
   "cell_type": "code",
   "execution_count": null,
   "metadata": {
    "collapsed": true
   },
   "outputs": [],
   "source": [
    "my_number = 5 # change only this number so the code below returns correct\n",
    "\n",
    "# This is an if statement. Notice that it will execute when the expression my_number==2017 is True\n",
    "if (my_number == 2017): # Do not forget the colon!\n",
    "    # Everything that is indented is considered part of the if statement\n",
    "    print(\"Correct!\")\n",
    "    \n",
    "else: # If the if statement does not execute this \"else-statement\" will execute\n",
    "    print(\"Incorrect. Try again.\")\n",
    "    \n",
    "print()\n",
    "print(\"This will always execute because it is not in any logic statement\") # not that it is not indented"
   ]
  },
  {
   "cell_type": "markdown",
   "metadata": {},
   "source": [
    "Note that not all if-statements need an else statement.\n",
    "\n",
    "What if we wanted something to display the grade of a class? Let's say that an A is anywhere from a 90 and up, B is from 80-90, C from 70-80, D from 60-70, and F for everything under 60. We could define multiple if statements comparing both the lower and upper bound of a grade bin, or we could observe that if a grade is not an A but is greater than 80, then it must be a B.\n",
    "\n",
    "We will now introduce an else-if statement (in Python denoted by `elif`). This statement can follow an if statement or another elif statement and will only execute if none of the previous if or elif statements before executed and the boolean expression is true. Once again, if this is confusing feel free to ask a mentor."
   ]
  },
  {
   "cell_type": "code",
   "execution_count": null,
   "metadata": {
    "collapsed": true
   },
   "outputs": [],
   "source": [
    "grade = 75\n",
    "\n",
    "if (grade >= 90):\n",
    "    my_letter_grade = \"A\"\n",
    "elif (grade >= 80):\n",
    "    my_letter_grade = \"B\"\n",
    "elif (grade >= 70):\n",
    "    my_letter_grade = \"C\"\n",
    "elif (grade >= 60):\n",
    "    my_letter_grade = \"D\"\n",
    "else:\n",
    "    my_letter_grade = \"F\"\n",
    "    \n",
    "print(my_letter_grade)\n"
   ]
  },
  {
   "cell_type": "markdown",
   "metadata": {},
   "source": [
    "\n",
    "---\n",
    "### Loops\n",
    "Hurray we can now define some control over which piece of code a program should execute. What if we want to continue to repeat the same steps of a program over and over again? We use loops of course! We will introduce 2 types of loops: a for-loop and a while-loop. This section can by very tricky for newcomers, so please ask questions!\n",
    "\n",
    "We start with the for-loop."
   ]
  },
  {
   "cell_type": "code",
   "execution_count": null,
   "metadata": {
    "collapsed": true
   },
   "outputs": [],
   "source": [
    "# This loop prints the numbers in the list P\n",
    "P = [0,1,2,3,5]\n",
    "for i in P:\n",
    "    print(i)"
   ]
  },
  {
   "cell_type": "markdown",
   "metadata": {},
   "source": [
    "Let's break down this for-loop.\n",
    "\n",
    "For loops starts with the `for` keyword that's highlighted in green. \n",
    "\n",
    "Next is the variable name `i` which stores the current loop value. `in` is another necessary keyword. \n",
    "\n",
    "Note that i *iterates* over each value in the list P = [0,1,2,3,5]. Also note that we do not have to actually use the variable i.\n",
    "\n",
    "Many times, we just want to iterate the same piece of code many times. We can do that without having to manually create a new list like so. Try to change the numbers in the `range()` area to something else to try to figure out what it is doing."
   ]
  },
  {
   "cell_type": "code",
   "execution_count": null,
   "metadata": {
    "collapsed": true
   },
   "outputs": [],
   "source": [
    "for t in range(0, 10, 1):\n",
    "    print(t)"
   ]
  },
  {
   "cell_type": "markdown",
   "metadata": {},
   "source": [
    "Before we move on to while-loops, let us demonstrate another example of a for loop that adds all of the numbers from 1 to a certain integer."
   ]
  },
  {
   "cell_type": "code",
   "execution_count": null,
   "metadata": {
    "collapsed": true
   },
   "outputs": [],
   "source": [
    "n = 10 # The number of integers we will add. That is if n = 5, then we will add 1+2+3+4+5\n",
    "out = 0 # we define a variable out which will be our sum\n",
    "for i in range(1, n+1, 1): #We go from 0 to n + 1 because range() does not include the last number\n",
    "    out = out + i\n",
    "print(\"The sum of integers from 1 to \", n, \" is: \", out)"
   ]
  },
  {
   "cell_type": "markdown",
   "metadata": {},
   "source": [
    "**While Loops**\n",
    "*While* for-loops iterate over a list, a while loop will repeat as long as a boolean expression is True. This means that it is quite flexible because a while-loop does not run a set-number of times, but it also means that the while-loop is susceptible to running forever. If your code is taking a long time to run (unless you are using very large numbers, a long time is anything above 2 seconds), press the square button in the toolbar above to interrupt execution.\n",
    "\n",
    "A while-loop looks very similar to an if-statement, but will continue to loop throught the same code until the expression is False. "
   ]
  },
  {
   "cell_type": "code",
   "execution_count": null,
   "metadata": {
    "collapsed": true
   },
   "outputs": [],
   "source": [
    "i = 0\n",
    "while (i < 5):\n",
    "    print(i)\n",
    "    i = i + 1 # if we did not have this statement here, the code would run forever"
   ]
  },
  {
   "cell_type": "markdown",
   "metadata": {},
   "source": [
    "Now to do add the all integers up to a number (like we did earlier using a for loop)"
   ]
  },
  {
   "cell_type": "code",
   "execution_count": null,
   "metadata": {
    "collapsed": true
   },
   "outputs": [],
   "source": [
    "n = 10\n",
    "out = 0\n",
    "i = 1\n",
    "while (i <= n):\n",
    "    out = out + i\n",
    "    i = i + 1\n",
    "print(out)"
   ]
  },
  {
   "cell_type": "markdown",
   "metadata": {},
   "source": [
    "## Functions\n",
    "We have almost learned everything you need to start creating some amazing programs!\n",
    "\n",
    "Let's look at functions which you can think of as mini-programs that take in some items as parameters and then returns something. You have actually used some built-in functions already. len() and range() are both built-in functions in Python. Here we will show you how to define your own functions to do whatever we want.\n",
    "\n",
    "We will continue the example from above where we want to calculate the sum of the first n positive integers. Rather than having to manually change n, though, like we did above, we will define a function that allows us to more easily calculate the sum for any integer.\n",
    "\n",
    "We define a function using def *function_name*(*whatever inputs you want*):"
   ]
  },
  {
   "cell_type": "code",
   "execution_count": null,
   "metadata": {
    "collapsed": true
   },
   "outputs": [],
   "source": [
    "def sum_integers(n): #creates a function called sum_integers that takes in one input n\n",
    "    out = 0\n",
    "    i = 1\n",
    "    while (i <= n):\n",
    "        out = out + i\n",
    "        i = i + 1\n",
    "    return out #instead of printing out, we return out"
   ]
  },
  {
   "cell_type": "markdown",
   "metadata": {},
   "source": [
    "Ta-dah! We have created a function that calculates the sum of the first n positive inteers! To use it, we simply can call it using sum_integers(10) to get the sum of the first 10 positive integers. Note that this will *return* the number and not print it so we can assign it to a variable."
   ]
  },
  {
   "cell_type": "code",
   "execution_count": null,
   "metadata": {
    "collapsed": true
   },
   "outputs": [],
   "source": [
    "result = sum_integers(10)\n",
    "print(result)"
   ]
  },
  {
   "cell_type": "markdown",
   "metadata": {},
   "source": [
    "## Inputs\n",
    "Python makes it very easy for a program to ask for a user input. It has a built in function called input() that will ask the user for an input and not execute any lines of code after until an input has been given."
   ]
  },
  {
   "cell_type": "code",
   "execution_count": null,
   "metadata": {
    "collapsed": true
   },
   "outputs": [],
   "source": [
    "my_input = input(\"Text here will be printed in the prompt: \")\n",
    "print(\"You inputted: \", my_input)"
   ]
  },
  {
   "cell_type": "markdown",
   "metadata": {},
   "source": [
    "---\n",
    "You now have everything you need to create your own text-based game!\n",
    "\n",
    "Potential game ideas include:\n",
    "- Madlibs\n",
    "- Hangman\n",
    "- Text-based Adventure\n",
    "- Your own unique game!\n",
    "\n",
    "We have provided an example number-guessing game in the example.py file.\n",
    "\n",
    "Before you go off to coding, you may want to read below for some final advice on getting started!"
   ]
  },
  {
   "cell_type": "markdown",
   "metadata": {},
   "source": [
    "## Methodical Stringy things\n",
    "You may find some of the built in functions and methods that strings have useful. While we did not learn exactly what a method is, it is very similar to a function called by a variable. To call a method, you use the variable name followed by a **.** followed by the method call. \n",
    "\n",
    "For example, strings have a built-in method called replace that replaces all instances of some part of a string. If you are unsure about a method, you can write the method name followed by a **?** to pull up the documentation for the method."
   ]
  },
  {
   "cell_type": "code",
   "execution_count": null,
   "metadata": {
    "collapsed": true
   },
   "outputs": [],
   "source": [
    "my_string = \"hitchhiker\"\n",
    "my_new_string = my_string.replace(\"hi\",\"ma\")\n",
    "print(my_string)\n",
    "print(my_new_string)"
   ]
  },
  {
   "cell_type": "code",
   "execution_count": null,
   "metadata": {
    "collapsed": true
   },
   "outputs": [],
   "source": [
    "my_string.replace?"
   ]
  },
  {
   "cell_type": "markdown",
   "metadata": {},
   "source": [
    "Other string methods do not take any arguments at all, because the original string is all that's needed to compute the result. In this case, parentheses are still needed, but there's nothing in between the parentheses. Here are some methods that work that way:\n",
    "\n",
    "|Method name|Value|\n",
    "|-|-|\n",
    "|`lower`|a lowercased version of the string|\n",
    "|`upper`|an uppercased version of the string|\n",
    "|`capitalize`|a version with the first letter capitalized|\n",
    "|`title`|a version with the first letter of every word capitalized||\n",
    "\n",
    "All these string methods are useful, but most programmers don't memorize their names or how to use them.  In the \"real world,\" people usually just search the internet for documentation and examples. A complete [list of string methods](https://docs.python.org/3/library/stdtypes.html#string-methods) appears in the Python language documentation. [Stack Overflow](http://stackoverflow.com) has a huge database of answered questions that often demonstrate how to use these methods to achieve various ends."
   ]
  },
  {
   "cell_type": "markdown",
   "metadata": {},
   "source": [
    "---\n",
    "# Running Python from a Command Line Interface\n",
    "*This section is optional*\n",
    "\n",
    "While you can create your project in a Jupyter Notebook like this one, you may want to learn how to navigate/utilize a command-line interface (often called the Terminal) to run a Python program (which is normally in a .py format). Way back when before the Graphical User Interfaces that we have now, users interacted with the computer using command-line interfaces (such as Terminal). While we mostly use GUIs today, the command-line allows us to be very direct and specific when interacting with the computer.\n",
    "\n",
    "\n",
    "**Installation Instructions (for if you are running this on your own computer)**\n",
    "\n",
    "Skip these steps if you plan on creating your project on the lab machines.\n",
    "\n",
    "If you are running MacOS, UNIX, or LINUX (such as running this on one of the Berkeley Lab Computers), you already have terminal installed. If you are running Windows, you will have to install a terminal emulator (I recommend [git bash](https://git-scm.com/downloads)). When installing, be sure to check \"Use Windows' default console window\".\n",
    "\n",
    "For this Jupyter Notebook, we are using Python3. If you are running this from your own computer, you may have to install Python3 which you can do for free by going to https://www.python.org/ and navigating to the downloads section and downloading the latest version of Python 3.x.x\n",
    "\n",
    "Finally, you will want to use a text-editor to edit the program. This will allow you to easily change and edit text of programs. The most popular ones are Atom and Sublime.\n",
    "\n",
    "---\n",
    "\n",
    "To start, open the Terminal App. You should see a command-prompt line like this:\n",
    "\n",
    "`This-May-Be-Here: ~ current-directory $` \n",
    "\n",
    "Type in `ls` and hit `return`. `ls` is short for list which will show all of the items in the current directory (or folder). The squiggly line ~ indicates the home directory. If you bring up Finder or file-explorer, you should be able to see the same files if of the directory you `ls` in.\n",
    "\n",
    "To change directories use the command `cd other-directory` to go into another directory from the current one. If you have a .py python file in the current directory, you can type `python file.py` to run the file. Note that print statements will print out into the current terminal console. To go back from the current directory, you can type `cd ..` to go back one folder, or type `cd` to go back to your home directory.\n",
    "\n",
    "If you want to directly write and execute python code, you can type just `python` which will then change the command prompt to look like `>>>`. Now you can write and run python scripts just like in the jupyter notebook (but the code runs as soon as you press return). To exit this Python prompt, you can type `exit()`.\n",
    "\n",
    "There are many other commands in the terminal such as mkdir (makes a directory). For now, try to navigate to the built in test.py file you have downloaded and run it. You should see \"Hello World\" printed. You should also open up the test.py file and try to understand what is happening.\n",
    "\n",
    "Alright you should now have all the tools you need to write your own game or project! Remember to use comments and descriptive variable names. Don't be afraid to google things or ask questions! And of course, have fun!"
   ]
  },
  {
   "cell_type": "markdown",
   "metadata": {},
   "source": [
    "This module was made for BearHacks Fall 2017. It is based off of a previous EECS-Day CS Lab as well as the first lab of Data8's Spring 2017 course."
   ]
  }
 ],
 "metadata": {
  "kernelspec": {
   "display_name": "Python 3",
   "language": "python",
   "name": "python3"
  },
  "language_info": {
   "codemirror_mode": {
    "name": "ipython",
    "version": 3
   },
   "file_extension": ".py",
   "mimetype": "text/x-python",
   "name": "python",
   "nbconvert_exporter": "python",
   "pygments_lexer": "ipython3",
   "version": "3.6.1"
  }
 },
 "nbformat": 4,
 "nbformat_minor": 2
}
