{
 "cells": [
  {
   "cell_type": "markdown",
   "metadata": {},
   "source": [
    "# Project Ideas\n",
    "\n",
    "Now that you know how to use graphics objects in python, try out one of these example projects below or otherwise try making something yourself!"
   ]
  },
  {
   "cell_type": "code",
   "execution_count": null,
   "metadata": {
    "collapsed": true
   },
   "outputs": [],
   "source": [
    "from PIL import Image\n",
    "import matplotlib.pyplot as plt\n",
    "\n",
    "def show_image(im, size):\n",
    "    fig, ax = plt.subplots(figsize=size)\n",
    "    if im.mode == 'L':\n",
    "        ax.imshow(im, cmap='gray')\n",
    "    if im.mode == 'RGB':\n",
    "        ax.imshow(im)\n",
    "    plt.show(ax)"
   ]
  },
  {
   "cell_type": "markdown",
   "metadata": {},
   "source": [
    "### Convolutions and Edge Detectors\n",
    "\n",
    "[Convolutions](http://setosa.io/ev/image-kernels/) are a cool trick that is used in image processing to find edges in a photo. Try reading the linked post and then implementing your own edge detector. \n",
    "\n",
    "As an example of what you should get, here is an example of an image:\n",
    "\n",
    "<img src=\"https://upload.wikimedia.org/wikipedia/commons/thumb/f/f0/Valve_original_%281%29.PNG/300px-Valve_original_%281%29.PNG\" alt=\"Drawing\" style=\"width: 300px;\"/>\n",
    "\n",
    "and the effect of a convolution\n",
    "\n",
    "<img src=\"https://upload.wikimedia.org/wikipedia/commons/thumb/d/d4/Valve_sobel_%283%29.PNG/300px-Valve_sobel_%283%29.PNG\" alt=\"Drawing\" style=\"width: 300px;\"/>\n",
    "\n",
    "There are a lot more \"kernels\" that you can use right [here](https://en.wikipedia.org/wiki/Kernel_(image_processing). Try them out and see what happens."
   ]
  },
  {
   "cell_type": "markdown",
   "metadata": {},
   "source": [
    "### Image Manipulation\n",
    "\n",
    "With the power of python we can take images and do some really cool things to images. For example, start with a picture:\n",
    "\n",
    "<img src=\"https://uproxx.files.wordpress.com/2014/11/dr-house-wallpaper-6.jpg?w=650&quality=100&h=487\" alt=\"Drawing\" style=\"width: 500px;\"/>\n",
    "\n",
    "and with a bit of ingenuity we can create some awesome new images such as:\n",
    "\n",
    "<img src=\"https://i.stack.imgur.com/71kXf.jpg\" alt=\"Drawing\" style=\"width: 500px;\"/>\n",
    "\n",
    "or \n",
    "\n",
    "<img src=\"https://i.stack.imgur.com/e05Ef.png\" alt=\"Drawing\" style=\"width: 500px;\"/>\n",
    "\n",
    "Also, with a different image:\n",
    "\n",
    "<img src=\"https://i.stack.imgur.com/x5hNJ.png\" alt=\"Drawing\" style=\"width: 500px;\"/>\n",
    "\n",
    "Try writing code to take an image and manipulate it somehow to make it cooler. Try using the images above as inspiration or ask somebody for help if you can't think of anything.\n",
    "\n",
    "Hint: The last picture above should be pretty easy to do if you want to get your toes wet. Try writing code that turns an image into lots of circles of different sizes!"
   ]
  },
  {
   "cell_type": "markdown",
   "metadata": {},
   "source": [
    "### Optical Illusions\n",
    "\n",
    "One other idea is to use what you now know about computer graphics to create optical illusions. Try recreating some of these optical illusions!\n",
    "\n",
    "<img src=\"https://opticalillusion.files.wordpress.com/2010/05/zentrum1.png\" alt=\"Drawing\" style=\"width: 500px;\"/>\n",
    "\n",
    "<img src=\"https://thumbs.dreamstime.com/b/waving-squares-black-white-optical-illusion-vector-seamless-pattern-background-some-effect-appears-36059380.jpg\" alt=\"Drawing\" style=\"width: 500px;\"/>\n",
    "\n",
    "<img src=\"https://www.mindmotivations.com/images/optical-illusion3.jpg\" alt=\"Drawing\" style=\"width: 500px;\"/>\n",
    "\n",
    "<img src=\"http://gwydir.demon.co.uk/jo/tess/optical1.gif\" alt=\"Drawing\" style=\"width: 500px;\"/>\n",
    "\n",
    "Can you come up with your own optical illusions?"
   ]
  }
 ],
 "metadata": {
  "kernelspec": {
   "display_name": "Python 3",
   "language": "python",
   "name": "python3"
  },
  "language_info": {
   "codemirror_mode": {
    "name": "ipython",
    "version": 3
   },
   "file_extension": ".py",
   "mimetype": "text/x-python",
   "name": "python",
   "nbconvert_exporter": "python",
   "pygments_lexer": "ipython3",
   "version": "3.6.1"
  }
 },
 "nbformat": 4,
 "nbformat_minor": 2
}
