{
 "cells": [
  {
   "cell_type": "markdown",
   "metadata": {},
   "source": [
    "# Project Ideas\n",
    "\n",
    "Now that you know how to use graphics objects in python, try out one of these example projects below or otherwise try making something yourself!"
   ]
  },
  {
   "cell_type": "code",
   "execution_count": null,
   "metadata": {
    "collapsed": true
   },
   "outputs": [],
   "source": [
    "from PIL import Image\n",
    "import matplotlib.pyplot as plt\n",
    "import numpy as np\n",
    "import cmath\n",
    "\n",
    "def show_image(im, size):\n",
    "    fig, ax = plt.subplots(figsize=size)\n",
    "    if im.mode == 'L':\n",
    "        ax.imshow(im, cmap='gray')\n",
    "    if im.mode == 'RGB':\n",
    "        ax.imshow(im)\n",
    "    plt.show(ax)"
   ]
  },
  {
   "cell_type": "markdown",
   "metadata": {},
   "source": [
    "### Mandelbrot Set\n",
    "\n",
    "The mandelbrot set is a fractal. It looks like this:\n",
    "\n",
    "<img src=\"https://upload.wikimedia.org/wikipedia/commons/thumb/2/21/Mandel_zoom_00_mandelbrot_set.jpg/1280px-Mandel_zoom_00_mandelbrot_set.jpg\" alt=\"Drawing\" style=\"width: 500px;\"/>\n",
    "\n",
    "To create the mandelbrot set, we take a point in the complex plane $ c = a + bi $. We then iterively square the number and add $ c $ to it. So $ z_{n+1} \\leftarrow z_n^2 + c $. One of two things will happen. Either the $ z_n $ will go to infinity or it won't. If it doesn't go to infinity we can color it black. If it does go to infinity we can color it a color based on how fast it goes to infinity. Try implementing code to plot the Mandelbrot set, and then once you're done take a look at the Julia sets project."
   ]
  },
  {
   "cell_type": "markdown",
   "metadata": {},
   "source": [
    "### How to create a Mandelbrot Set\n",
    "\n",
    "- Iterate through all the points in the square centered at the origin, of side length two (this is in the complex plane, with normal cartesian coordinates)\n",
    "    - You don't need to get _every_ point (which would be impossible because there are infinite points)\n",
    "    - You just need enough _resolution_ while iterating through the square\n",
    "    - Hint: Use a double for loop\n",
    "- At each point (x, y) you come to let $ c = x + yi $, so $ c $ is a complex number. Also, let $ z = c $.\n",
    "- Now do $ z \\leftarrow z^2 + c $ (the notation $ \\leftarrow $ means \"set $ z $ to be\")\n",
    "- Do the above step about a thousand times\n",
    "- Record how many times you have to do the above step until `abs(z) > 2`. This is called the \"escape time\"\n",
    "    - The idea behind this is that we want to plot how quickly the iteration goes to infinity (if it does at all)\n",
    "    - If `abs(z) > 2` then you know the iteration will never get any smaller (because of math... ask somebody if you want to know more)\n",
    "- Plot out the escape time, with different colors for different escape times\n",
    "    - Hint: A easy way to do this is to divide all the escape times by the maximum escape time, and then multiply everything by 255. Then plug those values directly into RGB.\n",
    "    \n",
    "### Hints\n",
    "\n",
    "- `import cmath` will make your life easier when you deal with complex numbers\n",
    "    - Try this `a = 1 + 3j`. This sets `a` to be a complex number (we use `j` instead of `i` in python because of quirky conventions, don't think about it too much)\n",
    "    - You can multiply complex numbers with `*`, take them to powers with `**`, and take their magnitudes with `abs()`"
   ]
  },
  {
   "cell_type": "markdown",
   "metadata": {},
   "source": [
    "### Julia Fractals\n",
    "\n",
    "Julia fractals are fractals that are created in a way simillar to how the Mandelbrot set was created. However, they are much more flexible and can lead to some very interesting designs such as:\n",
    "\n",
    "<img src=\"https://upload.wikimedia.org/wikipedia/en/d/d4/Julia_0.285_0.01.png\" alt=\"Drawing\" style=\"width: 400px;\"/>\n",
    "\n",
    "or\n",
    "\n",
    "<img src=\"https://upload.wikimedia.org/wikipedia/commons/thumb/6/6a/Julia-set_N_z3-1.png/1280px-Julia-set_N_z3-1.png\" alt=\"Drawing\" style=\"width: 400px;\"/>\n",
    "\n",
    "Creating images such as these is an art. Try implementing code to create a Julia set following instructions [here](https://en.wikipedia.org/wiki/Julia_set#Quadratic_polynomials). Again, feel free to ask for help! Once you've implemented a julia set creator try seeing what kinds of cool fractals you can make!"
   ]
  },
  {
   "cell_type": "markdown",
   "metadata": {},
   "source": [
    "### How to create a Julia Set\n",
    "\n",
    "- First choose a complex number $ c = a + bi $. For suggestions for choosing $ c $, check out the images [here](https://en.wikipedia.org/wiki/Julia_set#Quadratic_polynomials)\n",
    "- Iterate through all the points in the square centered at the origin, of side length two (this is in the complex plane, with normal cartesian coordinates)\n",
    "    - You don't need to get _every_ point (which would be impossible because there are infinite points)\n",
    "    - You just need enough _resolution_ while iterating through the square\n",
    "    - Hint: Use a double for loop\n",
    "- At each point (x, y) you come to let $ z = x + yi $, so $ z $ is a complex number.\n",
    "- Now do $ z \\leftarrow z^2 + c $ (the notation $ \\leftarrow $ means \"set $ z $ to be\")\n",
    "- Do the above step about a thousand times\n",
    "- Record how many times you have to do the above step until `abs(z) > 2`. This is called the \"escape time\"\n",
    "- Plot out the escape time, with different colors for different escape times\n",
    "    - Hint: A easy way to do this is to divide all the escape times by the maximum escape time, and then multiply everything by 255. Then plug those values directly into RGB.\n",
    "    \n",
    "### Hints\n",
    "\n",
    "- `import cmath` will make your life easier when you deal with complex numbers\n",
    "    - Try this `a = 1 + 3j`. This sets `a` to be a complex number (we use `j` instead of `i` in python because of quirky conventions, don't think about it too much)\n",
    "    - You can multiply complex numbers with `*`, take them to powers with `**`, and take their magnitudes with `abs()`\n",
    "    \n",
    "### Other things you can do\n",
    "\n",
    "- First, you can try different values for $ c $. What happens when $ c $ changes by a tiny amount? Can you make a movie or an animation?\n",
    "- The step $ z \\leftarrow z^2 + c $ isn't the full story. In fact, you can make the step $ z \\leftarrow f(z) + c $ where $ f(z) $ is any function. Above, we had $ f(z) = z^2 $. Play around with what $ f(z) $ is. For starters, try out $ f(z) = z^3 $.\n",
    "- Other good functions to use include \"rational\" functions of the form $ f(z) = p(z)/q(z) $. For example \n",
    "    - This one is harder to do, try using $ f(z) = \\frac{z^4}{z - z^2 + 3} $ with $ c = -1.6i $"
   ]
  },
  {
   "cell_type": "markdown",
   "metadata": {},
   "source": [
    "### Chaos Game"
   ]
  },
  {
   "cell_type": "markdown",
   "metadata": {},
   "source": [
    "The chaos game is a simple way to make fractals, such as this one:\n",
    "\n",
    "<img src=\"https://upload.wikimedia.org/wikipedia/commons/c/c2/Chaos_Game_pentagon-EH-2.png\" alt=\"Drawing\" style=\"width: 300px;\"/>\n",
    "\n",
    "In addition, with a simple trick we can make fractals such as these, called fractal flames:\n",
    "\n",
    "<img src=\"http://farm6.static.flickr.com/5014/5475637862_496c1726ed.jpg\" alt=\"Drawing\" style=\"width: 300px;\"/>\n",
    "\n",
    "To do this project, check out [this link](http://www.shodor.org/interactivate/activities/TheChaosGame/) for an explanation.\n",
    "\n",
    "The idea is you have three (or any number) of vertices like this:\n",
    "\n",
    "<img src=\"http://www.shodor.org/media/O/T/E/zNjM4Mjk0MmVkYjFhODg0MjNiZjk5ZTMxY2M2YTk.gif\" alt=\"Drawing\" style=\"width: 200px;\"/>\n",
    "\n",
    "You then start with a random point and then choose random vertices. For each random vertex you choose move the point halfway there. You'll end up with something like this:\n",
    "\n",
    "<img src=\"http://www.shodor.org/media/M/D/U/0ZDgzYzFhNmY4OGM2OWU3YTRkZWQ1MmNkMTIxYjI.gif\" alt=\"Drawing\" style=\"width: 200px;\"/>\n",
    "\n",
    "Above we've started with some random point P and then picked the random sequence of vertices 1, 3, 1, 1, and 2. We'll plot out those points and do this a ton more times (like 10000 ish). You should see something really cool begin to appear.\n",
    "\n",
    "After you make the chaos game you can check out the Wikipedia page for the [Chaos Game](https://en.wikipedia.org/wiki/Chaos_game) and try out some of the restriced chaos games! Try out different rules and see what happens! (Feel free to ask someone for help!)\n",
    "\n",
    "\n",
    "To make fractal flames, check out [this paper](http://flam3.com/flame.pdf) (the notation in the paper is a bit esoteric, but it's actually very easy. Again feel free to ask for help!)\n",
    "\n",
    "A few tips:\n",
    "\n",
    "- You'll need to figure out a way to transform points on the plane (where you do the triangle stuff) to points on the image (which can't have negative numbers on it and have to be integers). This is one of the hardest parts!\n",
    "- Try a triangle with points at (0,0), (1,0), and (0,1) first (it makes the math easy)\n",
    "\n",
    "Here is a basic implementation that you can try out (there are many fixes you can make to this code, and you can also get it to create fractal flames as well):"
   ]
  }
 ],
 "metadata": {
  "kernelspec": {
   "display_name": "Python 3",
   "language": "python",
   "name": "python3"
  },
  "language_info": {
   "codemirror_mode": {
    "name": "ipython",
    "version": 3
   },
   "file_extension": ".py",
   "mimetype": "text/x-python",
   "name": "python",
   "nbconvert_exporter": "python",
   "pygments_lexer": "ipython3",
   "version": "3.6.1"
  }
 },
 "nbformat": 4,
 "nbformat_minor": 2
}
