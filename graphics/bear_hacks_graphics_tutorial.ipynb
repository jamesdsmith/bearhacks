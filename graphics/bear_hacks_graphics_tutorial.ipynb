{
 "cells": [
  {
   "cell_type": "markdown",
   "metadata": {},
   "source": [
    "## Welcome to Bear Hacks!"
   ]
  },
  {
   "cell_type": "markdown",
   "metadata": {},
   "source": [
    "This iPython notebook should teach you the basics of programming in python and using python for image manipulation and Turtle Graphics! If you have any questions, don't be afraid to ask! We don't byte, I swear. (<a href=\"https://simple.wikipedia.org/wiki/Byte\">pun entirely intended</a>)\n",
    "\n",
    "First, we'll introduce the basics of iPython to get you up and running. Then at the end we'll give you lots of ideas for projects you can do.\n",
    "\n",
    "iPython code is written in cells which you can run individually, but data from one can be used in another. First, locate this set of buttons in the toolbar above:\n",
    "\n",
    "<img src=\"toolbar.png\" width=\"130px\" style=\"float: left\"/> <br><br><br>\n",
    "\n",
    "To run a cell, click on the cell so it's highlighted green, then click the leftmost button in that group, the \"Run Cell\" button. Try this on the code cell below:"
   ]
  },
  {
   "cell_type": "code",
   "execution_count": null,
   "metadata": {},
   "outputs": [],
   "source": [
    "# This is a code cell! You can click here to edit Python code (although there isn't anything to do here),\n",
    "# then click on the \"Run\" button above to run it.\n",
    "\n",
    "print(\"Hello, world!\")"
   ]
  },
  {
   "cell_type": "markdown",
   "metadata": {},
   "source": [
    "#### Woah, that did a thing!\n",
    "\n",
    "`print()` displays the message between the parentheses below the code cell. `print()` statements are very useful, as you'll soon see. You'll also soon see why the message is in quotes.\n",
    "\n",
    "And Python can do many more things, as we'll see shortly. First, though, there are two more buttons in the toolbar group above. You shouldn't need the rightmost one, but the center one (with the square) may be helpful. This is the \"Stop Cell\" button, and it can be used to, oddly enough, stop a cell from running. If you're tired of a cell running, you can click on the offending cell then click this button to stop it. We won't demonstrate it here, but it's there if you need it.\n",
    "\n",
    "Even if a cell doesn't have any code for you to write or edit, you should run it anyway! Later parts may depend on code from earlier parts..."
   ]
  },
  {
   "cell_type": "markdown",
   "metadata": {},
   "source": [
    "## A brief introduction to Python...\n",
    "\n",
    "<img src=\"python-logo.png\" width=\"200px\" style=\"float: left\"/><br><br><br>\n",
    "\n",
    "We're probably getting a bit ahead of ourselves here. First, **what is Python?**\n",
    "\n",
    "Python is a popular <b>programming language</b>, which means it allows you to tell a computer <i>exactly</i> what to do with special text called code. Although Python is only one of many such programming languages, it's very similar to a lot of others, so whatever you learn in Python can easily be transferred to other languages. Other popular programming languages include Java, C, and JavaScript.\n",
    "\n",
    "<i>iPython</i>, on the other hand, is just an environment for running Python in a web browser, with text and graphics along with the code (as we're including here). As a result, learning coding in iPython means you're actually just learning Python!\n",
    "<br>\n",
    "\n",
    "## Comments: a short digression\n",
    "\n",
    "Additionally, we should introduce <b>comments,</b> which you may have noticed above. Anything after a hashtag (<b>#</b>) in a line of Python code isn't actually run; it's just there as a note by the programmer. These are really useful to document what code does in-line with the code itself, and using them is considered <i>really</i> good coding practice."
   ]
  },
  {
   "cell_type": "markdown",
   "metadata": {},
   "source": [
    "## Let's get started: variables\n",
    "\n",
    "We're going to jump right into <b>variables.</b> Much like in algebra, variables in programming allow us to put a placeholder in our code to \"stand-in\" for a value. Unlike in algebra, however, variables in programming can stand in for much more than just numbers, like strings of text (called <b>strings,</b> oddly enough) and much more!\n",
    "\n",
    "Variables in Python are defined with an equals sign, with the name of the variable on the left and the initial value on the right.\n",
    "\n",
    "Fill in the variables in the code cell below by replacing the written values to the right of the equals sign with your own answers!"
   ]
  },
  {
   "cell_type": "code",
   "execution_count": null,
   "metadata": {
    "collapsed": true
   },
   "outputs": [],
   "source": [
    "# Fill in your first and last name below by replacing FirstName and LastName\n",
    "# These are string types, and when you type string values they're surrounded with quotes\n",
    "first_name = \"FirstName\"\n",
    "last_name = \"LastName\"\n",
    "\n",
    "# Strings can be combined using the + operator\n",
    "# This is called string concatenation\n",
    "full_name = first_name + \" \" + last_name\n",
    "\n",
    "# While we're at it, what's your favorite color?\n",
    "favorite_color = \"Color\"\n",
    "\n",
    "# Now, what's your favorite number?\n",
    "# This is a number type. Notice it doesn't have quotes? Numbers don't have them.\n",
    "favorite_number = 0\n",
    "\n",
    "# Is this lab cool?\n",
    "# This is called a boolean type, it can either be True or False\n",
    "# The correct answer here is True, by the way ;)\n",
    "lab_cool = True"
   ]
  },
  {
   "cell_type": "markdown",
   "metadata": {},
   "source": [
    "Run the cell above, and you'll notice it doesn't seem to do anything yet. Let's fix that!\n",
    "\n",
    "Run this cell:"
   ]
  },
  {
   "cell_type": "code",
   "execution_count": null,
   "metadata": {},
   "outputs": [],
   "source": [
    "# We can view the values of variables with print()\n",
    "print(\"Full name: \" + full_name)"
   ]
  },
  {
   "cell_type": "markdown",
   "metadata": {},
   "source": [
    "Try playing around with the `print()` statement above. See if you can get it to print out the other variables you declared above. Once you're satisfied, feel free to move on."
   ]
  },
  {
   "cell_type": "markdown",
   "metadata": {},
   "source": [
    "## Lists\n",
    "\n",
    "Python also has something called a <b>list</b>, (an <b>array</b> in some other languages) which allows us to store multiple values in one variable. You can then access the values by <i>indexing</i> into the list, as we'll see below. Note that lists are kind of weird, in that the first index is actually position <i>zero.</i>"
   ]
  },
  {
   "cell_type": "code",
   "execution_count": null,
   "metadata": {},
   "outputs": [],
   "source": [
    "# We create the list here, starting with your first and last name in the first two positions\n",
    "# Notice how we can use values and variables interchangeably.\n",
    "info = [first_name, last_name, \"Hello!\"]\n",
    "\n",
    "\n",
    "# We print out the first value of the list, by indexing into position zero\n",
    "print(\"info[0]: \" + info[0])\n",
    "\n",
    "\n",
    "# We can also change the value at a particular index in the list\n",
    "# Try putting a nickname in place of your first name!\n",
    "info[0] = \"Nickname\"\n",
    "\n",
    "\n",
    "# Notice how the value at info[0] changed?\n",
    "print(\"info[0], redux: \" + info[0])\n",
    "\n",
    "\n",
    "# We can also just print out the whole list\n",
    "print(\"info:\", info)\n",
    "\n",
    "\n",
    "# We can even add your favorite color!\n",
    "info = info + [favorite_color]\n",
    "\n",
    "print(\"info:\", info)"
   ]
  },
  {
   "cell_type": "markdown",
   "metadata": {},
   "source": [
    "## Functions\n",
    "\n",
    "Python has many built-in functions which <i>do things.</i> Functions take *arguments*, which are the comma-separated values in between the parentheses following the function name. You can even write your own functions, but we'll get into that later.\n",
    "\n",
    "We've already seen the `print()` function, which \"prints out\" its arguments, but there are many more. For now, however, we'll mostly be using `print()` and functions from Turtle Graphics.\n",
    "\n",
    "Speaking of which..."
   ]
  },
  {
   "cell_type": "markdown",
   "metadata": {},
   "source": [
    "## Loops\n",
    "\n",
    "Wow, that was a lot of work! Instead, we can simplify the code by using\n",
    "*loops.* There are two popular types of loops, `for` and `while` loops. First we'll take a look at the `for` loop.  "
   ]
  },
  {
   "cell_type": "code",
   "execution_count": null,
   "metadata": {},
   "outputs": [],
   "source": [
    "# This loop prints the numbers 0 through 4\n",
    "for i in range(0, 5, 1):\n",
    "    print(i)"
   ]
  },
  {
   "cell_type": "markdown",
   "metadata": {},
   "source": [
    "Wow, that loop did so much stuff! Let's break it down.\n",
    "\n",
    "Firstly, you probably noticed that the `print()` function call above is indented. Python uses indentation to group things together, so everything indented by one or more tabs under the `for` declaration will be looped over.\n",
    "\n",
    "For loops starts with the `for` keyword that's highlighted in green. \n",
    "\n",
    "Next is the variable name `i` which stores the current loop value. `in` is another necessary keyword. \n",
    "\n",
    "Finally, we have the function `range(start, stop, step)` that takes in three arguments. `range()` returns numbers from `start` up to, but not including, `stop`, incrementing by size `step`.\n",
    "\n",
    "We can even `for` loop over the contents of a list!"
   ]
  },
  {
   "cell_type": "code",
   "execution_count": null,
   "metadata": {},
   "outputs": [],
   "source": [
    "# Here we loop over the contents of this list,\n",
    "# building up the variable \"concatenated\" as we go\n",
    "loop_over_me = [first_name, \" \", last_name, \" \", \"is \", \"the \", \"best\"]\n",
    "concatenated = \"\"\n",
    "\n",
    "for element in loop_over_me:\n",
    "    concatenated = concatenated + element\n",
    "    print(element)\n",
    "\n",
    "print(\"Concatenated string:\", concatenated)"
   ]
  },
  {
   "cell_type": "markdown",
   "metadata": {},
   "source": [
    "## Conditionals\n",
    "\n",
    "We've done a lot so far, but we're not done yet! Next we're going to discuss conditional statements, which are *super important* in programming.\n",
    "\n",
    "We'll start with an example. Try running this cell with different values of `i`."
   ]
  },
  {
   "cell_type": "code",
   "execution_count": null,
   "metadata": {},
   "outputs": [],
   "source": [
    "# Try different values of i and see what's printed!\n",
    "i = 0\n",
    "\n",
    "if i < 0:               # Checked first\n",
    "    print(\"Negative\")\n",
    "elif i == 0:            # Checked next\n",
    "    print(\"Zero\")\n",
    "else:                   # Checked last\n",
    "    print(\"Positive\")"
   ]
  },
  {
   "cell_type": "markdown",
   "metadata": {},
   "source": [
    "## Functions, Part II: Revenge of the lazy programmer\n",
    "\n",
    "At this point, you've used plenty of other people's functions, such as `print`. But it turns out you can also write your own!\n",
    "\n",
    "Functions allow you to write a section of code once and easily reuse it elsewhere in your program. Like loops and conditional statements, functions use indentation to group lines of code together. In Python, you *define* a function with a `def` statement. Run the code cell below for an example."
   ]
  },
  {
   "cell_type": "code",
   "execution_count": null,
   "metadata": {
    "collapsed": true
   },
   "outputs": [],
   "source": [
    "def range_print(end):\n",
    "    for i in range(0, end + 1, 1):\n",
    "        print(i)"
   ]
  },
  {
   "cell_type": "markdown",
   "metadata": {},
   "source": [
    "Well that's strange, it didn't *do anything*. What happens if we try to call it like we've been doing?"
   ]
  },
  {
   "cell_type": "code",
   "execution_count": null,
   "metadata": {},
   "outputs": [],
   "source": [
    "range_print(5)"
   ]
  },
  {
   "cell_type": "markdown",
   "metadata": {},
   "source": [
    "**Woah, look at that!**\n",
    "\n",
    "Functions are even more powerful though. Instead of just printing things, they can also *return* data back to the function caller with the `return` keyword. Run this example to see:"
   ]
  },
  {
   "cell_type": "code",
   "execution_count": null,
   "metadata": {
    "collapsed": true
   },
   "outputs": [],
   "source": [
    "def range_return(start, end):\n",
    "    lst = []\n",
    "    for i in range(start, end + 1, 1):\n",
    "        lst = lst + [i]\n",
    "    return lst"
   ]
  },
  {
   "cell_type": "code",
   "execution_count": null,
   "metadata": {},
   "outputs": [],
   "source": [
    "print(range_return(1, 5))"
   ]
  },
  {
   "cell_type": "markdown",
   "metadata": {},
   "source": [
    "**So what's happening here?**\n",
    "\n",
    "The function `range_return()` returns a list of values in the specified range (inclusive on both bounds, try to figure out why). Then, the `print()` function takes that list as an argument and prints the list!"
   ]
  },
  {
   "cell_type": "markdown",
   "metadata": {},
   "source": [
    "## Graphics in Python"
   ]
  },
  {
   "cell_type": "markdown",
   "metadata": {},
   "source": [
    "### Graphics\n",
    "\n",
    "So how do computers represent images? Well there are two kinds of images we can represnt in computers: black and white images and color images. All images are stored as a grid (array) of numbers (pixels). The height of the array corresponds to the height of the image and the width of the array corresponds to the width of the image. For black and white images we just put the brightness of the pixel in each square of the array. The brightness is some number between 0 and 255. \n",
    "\n",
    "For colored images we need a bit more information for each pixel. It turns out any color representable by a computer can be represented as a combination of red, green, and blue, called channels. In fact, this is how computer and phone screens work. They are really just millions upon millions of really really small red, green, and blue lights. If you take a microscope and zoom into your phone screen you would see something that looks like this:\n",
    "\n",
    "<img src=\"https://upload.wikimedia.org/wikipedia/commons/b/b0/LCD_pixels_RGB.jpg\" alt=\"Drawing\" style=\"width: 500px;\"/>\n",
    "\n",
    "For each pixel we need to specify the intensities of the red, green, _and_ blue lights. Because of this each pixel needs 3 numbers associated with it. For example, the color (230, 20, 200) has a lot of red and blue in it but doesn't have much green. In each cell of the array we'll store three different numbers, one for each color in RGB. You can think of a color image as a three dimensional grid. One dimension for height, one dimension for width, and one dimension for RGB.\n",
    "\n",
    "#### PIL\n",
    "\n",
    "In python we use a library called PIL to manipulate images. Let's check it out!"
   ]
  },
  {
   "cell_type": "code",
   "execution_count": null,
   "metadata": {
    "collapsed": true
   },
   "outputs": [],
   "source": [
    "from PIL import Image\n",
    "import numpy as np\n",
    "import matplotlib.pyplot as plt"
   ]
  },
  {
   "cell_type": "markdown",
   "metadata": {},
   "source": [
    "First of all, let's see how RGB works. Try changing the arguments to the function to see how RGB affects what color we get."
   ]
  },
  {
   "cell_type": "code",
   "execution_count": null,
   "metadata": {},
   "outputs": [],
   "source": [
    "# Don't worry about how this function works!!!\n",
    "def show_rgb(r,g,b):\n",
    "    im = Image.new('RGB', (1,1))\n",
    "    pix = im.load()\n",
    "    pix[0,0] = (r,g,b)\n",
    "    fig, ax = plt.subplots(figsize=(10,10))\n",
    "    ax.imshow(im)\n",
    "    plt.show(ax)\n",
    "  \n",
    "# Change the arguments to change the\n",
    "# R, G, and B values respectively\n",
    "show_rgb(0,255,100)"
   ]
  },
  {
   "cell_type": "markdown",
   "metadata": {},
   "source": [
    "First let's write a function to display images. You don't need to understand what's going on inside. You just have to run the cell below and know that you can use `show_image` to show images."
   ]
  },
  {
   "cell_type": "code",
   "execution_count": null,
   "metadata": {
    "collapsed": true
   },
   "outputs": [],
   "source": [
    "# Function to display image\n",
    "# (You don't need to understand what's going on here)\n",
    "def show_image(im, size):\n",
    "    fig, ax = plt.subplots(figsize=size)\n",
    "    if im.mode == 'L':\n",
    "        ax.imshow(im, cmap='gray')\n",
    "    if im.mode == 'RGB':\n",
    "        ax.imshow(im)\n",
    "    plt.show(ax)"
   ]
  },
  {
   "cell_type": "markdown",
   "metadata": {},
   "source": [
    "The following code block shows you how to create a black and white image. Try to follow along to the code and use the comments as a guide!\n",
    "\n",
    "By the way. In school you might have learned about the good old cartesian coordinate system that looks something like this:\n",
    "\n",
    "<img src=\"http://programarcadegames.com/chapters/05_intro_to_graphics/Cartesian_coordinates_2D2.png\" alt=\"Drawing\" style=\"width: 500px;\"/>\n",
    "\n",
    "But in computer graphics we use a coordinate system that looks like this:\n",
    "\n",
    "<img src=\"http://programarcadegames.com/chapters/05_intro_to_graphics/Computer_coordinates_2D.png\" alt=\"Drawing\" style=\"width: 500px;\"/>\n",
    "\n",
    "It's kind of a funny quirk of how computer graphics evolved, but now we're stuck with it. Notice the y-axis is positive as you go down and the origin is at the top left of the screen."
   ]
  },
  {
   "cell_type": "code",
   "execution_count": null,
   "metadata": {},
   "outputs": [],
   "source": [
    "# Create a new black and white image ('L') of size 2X2\n",
    "im = Image.new('L', (2,2))\n",
    "\n",
    "# Load the image ('pix' is called a pixel access object\n",
    "# it allows you to change the values of each pixel)\n",
    "# Notice it's different from the Image object one line above!\n",
    "pix = im.load()\n",
    "\n",
    "# You should use the Image object when you want to use the image\n",
    "# And you should use the pixel access object to change pixels\n",
    "# You can change the pixels like so:\n",
    "pix[0,0] = 255\n",
    "pix[1,0] = 120\n",
    "pix[0,1] = 50\n",
    "pix[1,1] = 175\n",
    "\n",
    "# show_image takes in an 'image' object\n",
    "# (not a pixel access object!!!) and a \n",
    "# size to display the image\n",
    "show_image(im, (9,12))\n",
    "\n",
    "# When trying to understand the image, remember the \n",
    "# quirky coordinate axis that computer graphics uses!"
   ]
  },
  {
   "cell_type": "markdown",
   "metadata": {},
   "source": [
    "You probably won't be working too much with black and white images, so let's try a full color image. It works mostly the same way:"
   ]
  },
  {
   "cell_type": "code",
   "execution_count": null,
   "metadata": {},
   "outputs": [],
   "source": [
    "# Create a new color image of size 2X2\n",
    "im_color = Image.new('RGB', (2,2))\n",
    "\n",
    "# Create a pixel access image\n",
    "pix = im_color.load()\n",
    "\n",
    "# Change each pixel individually\n",
    "# Notice we use a three-tuple for each\n",
    "# grid because we're using RGB\n",
    "pix[0,0] = (255,0,0)\n",
    "pix[0,1] = (255,0,255)\n",
    "pix[1,0] = (255,255,0)\n",
    "pix[1,1] = (0,0,255)\n",
    "\n",
    "# Dispaly the image\n",
    "show_image(im_color, (10,10))"
   ]
  },
  {
   "cell_type": "markdown",
   "metadata": {},
   "source": [
    "We can also open up existing images by using the function `Image.open`. The photo you want to open has to be in the same directory as this notebook is in!"
   ]
  },
  {
   "cell_type": "code",
   "execution_count": null,
   "metadata": {},
   "outputs": [],
   "source": [
    "im_open = Image.open('sarah.jpg')\n",
    "show_image(im_open, (10,10))"
   ]
  },
  {
   "cell_type": "markdown",
   "metadata": {},
   "source": [
    "Here is an example of a simple image manipulation you can do to the image. Notice the use of a doubly nested for loop starting with `for y in range(im_open.height):`. This is a very common thing to do if you want to loop through every pixel in the image and you'll probably be using the control flow a lot."
   ]
  },
  {
   "cell_type": "code",
   "execution_count": null,
   "metadata": {},
   "outputs": [],
   "source": [
    "# flip RGB channels\n",
    "\n",
    "pix = im_open.load() \n",
    "for y in range(im_open.height):\n",
    "    for x in range(im_open.width):\n",
    "        rgb = pix[x,y]\n",
    "        pix[x,y] = (rgb[2], rgb[0], rgb[1])\n",
    "\n",
    "# She looks like an alien now...\n",
    "show_image(im_open, (10,10))"
   ]
  },
  {
   "cell_type": "markdown",
   "metadata": {},
   "source": [
    "Here's another pretty easy image manipulation. We floor divide `//` everything by 80 and then multiply by 80. This essentially only allows multiples of 80 to be in the RGB channels. Notice it gives the picture a \"grafitti\" feel."
   ]
  },
  {
   "cell_type": "code",
   "execution_count": null,
   "metadata": {},
   "outputs": [],
   "source": [
    "# flip RGB channels\n",
    "\n",
    "pix = im_open.load() \n",
    "for y in range(im_open.height):\n",
    "    for x in range(im_open.width):\n",
    "        rgb = pix[x,y]\n",
    "        pix[x,y] = (rgb[1] // 80 * 80, \n",
    "                    rgb[2] // 80 * 80, \n",
    "                    rgb[0] // 80 * 80)\n",
    "\n",
    "# She looks like an alien now...\n",
    "show_image(im_open, (10,10))"
   ]
  },
  {
   "cell_type": "code",
   "execution_count": null,
   "metadata": {
    "collapsed": true
   },
   "outputs": [],
   "source": []
  }
 ],
 "metadata": {
  "kernelspec": {
   "display_name": "Python 3",
   "language": "python",
   "name": "python3"
  },
  "language_info": {
   "codemirror_mode": {
    "name": "ipython",
    "version": 3
   },
   "file_extension": ".py",
   "mimetype": "text/x-python",
   "name": "python",
   "nbconvert_exporter": "python",
   "pygments_lexer": "ipython3",
   "version": "3.6.1"
  }
 },
 "nbformat": 4,
 "nbformat_minor": 2
}
